{
 "cells": [
  {
   "cell_type": "markdown",
   "metadata": {},
   "source": [
    "# Laboratorio 6: Análisis de tráfico de red"
   ]
  },
  {
   "cell_type": "markdown",
   "metadata": {},
   "source": [
    "## Manuel Rodas 21509"
   ]
  },
  {
   "cell_type": "markdown",
   "metadata": {},
   "source": [
    "### Preambulo"
   ]
  },
  {
   "cell_type": "code",
   "execution_count": 6,
   "metadata": {},
   "outputs": [],
   "source": [
    "from scapy.all import *\n",
    "import pandas as pd"
   ]
  },
  {
   "cell_type": "code",
   "execution_count": 2,
   "metadata": {},
   "outputs": [],
   "source": [
    "packets = sniff(count=25)"
   ]
  },
  {
   "cell_type": "code",
   "execution_count": 3,
   "metadata": {},
   "outputs": [
    {
     "name": "stdout",
     "output_type": "stream",
     "text": [
      "Tipo de variable: <class 'scapy.plist.PacketList'>\n",
      "Número de paquetes capturados: 25\n",
      "Contenido de la variable:\n",
      "0000 Ether / IP / TCP 192.168.1.26:57167 > 20.189.173.25:https PA / Raw\n",
      "0001 Ether / IP / TCP 192.168.1.26:57167 > 20.189.173.25:https A / Raw\n",
      "0002 Ether / IP / TCP 192.168.1.26:57167 > 20.189.173.25:https A / Raw\n",
      "0003 Ether / IP / TCP 192.168.1.26:57167 > 20.189.173.25:https PA / Raw\n",
      "0004 Ether / IPv6 / UDP / DNS Qry b'mobile.events.data.trafficmanager.net.'\n",
      "0005 Ether / IPv6 / UDP / DNS Qry b'mobile.events.data.trafficmanager.net.'\n",
      "0006 Ether / IPv6 / UDP / DNS Ans b'onedscolprdcus16.centralus.cloudapp.azure.com.'\n",
      "0007 Ether / IPv6 / UDP / DNS Ans b'onedscolprdcus16.centralus.cloudapp.azure.com.'\n",
      "0008 Ether / IPv6 / UDP / DNS Qry b'onedscolprdcus16.centralus.cloudapp.azure.com.'\n",
      "0009 Ether / IPv6 / UDP / DNS Ans\n",
      "0010 Ether / IP / TCP 192.168.1.26:57230 > 52.182.143.213:https S\n",
      "0011 Ether / IP / TCP 20.189.173.25:https > 192.168.1.26:57167 A\n",
      "0012 Ether / IP / TCP 20.189.173.25:https > 192.168.1.26:57167 PA / Raw\n",
      "0013 Ether / IP / TCP 192.168.1.26:57167 > 20.189.173.25:https A\n",
      "0014 Ether / IP / TCP 52.182.143.213:https > 192.168.1.26:57230 SA\n",
      "0015 Ether / IP / TCP 192.168.1.26:57230 > 52.182.143.213:https A\n",
      "0016 Ether / IP / TCP 192.168.1.26:57230 > 52.182.143.213:https PA / Raw\n",
      "0017 Ether / IP / TCP 52.182.143.213:https > 192.168.1.26:57230 A\n",
      "0018 Ether / IP / TCP 52.182.143.213:https > 192.168.1.26:57230 PA / Raw\n",
      "0019 Ether / IP / TCP 192.168.1.26:57230 > 52.182.143.213:https A\n",
      "0020 Ether / IP / TCP 192.168.1.26:57230 > 52.182.143.213:https PA / Raw\n",
      "0021 Ether / IP / TCP 52.182.143.213:https > 192.168.1.26:57230 A\n",
      "0022 Ether / IP / TCP 52.182.143.213:https > 192.168.1.26:57230 A / Raw\n",
      "0023 Ether / IP / TCP 192.168.1.26:57230 > 52.182.143.213:https A\n",
      "0024 Ether / IP / TCP 52.182.143.213:https > 192.168.1.26:57230 A / Raw\n"
     ]
    }
   ],
   "source": [
    "print(\"Tipo de variable:\", type(packets))\n",
    "print(\"Número de paquetes capturados:\", len(packets))\n",
    "print(\"Contenido de la variable:\")\n",
    "packets.show()"
   ]
  },
  {
   "cell_type": "code",
   "execution_count": 4,
   "metadata": {},
   "outputs": [
    {
     "name": "stdout",
     "output_type": "stream",
     "text": [
      "Tipo de dato del primer paquete: <class 'scapy.layers.l2.Ether'>\n"
     ]
    }
   ],
   "source": [
    "print(\"Tipo de dato del primer paquete:\", type(packets[0]))"
   ]
  },
  {
   "cell_type": "code",
   "execution_count": 5,
   "metadata": {},
   "outputs": [
    {
     "name": "stdout",
     "output_type": "stream",
     "text": [
      "Contenido de los primeros 5 paquetes:\n",
      "Paquete #1\n",
      "Ether / IP / TCP 192.168.1.26:57167 > 20.189.173.25:https PA / Raw\n",
      "Paquete #2\n",
      "Ether / IP / TCP 192.168.1.26:57167 > 20.189.173.25:https A / Raw\n",
      "Paquete #3\n",
      "Ether / IP / TCP 192.168.1.26:57167 > 20.189.173.25:https A / Raw\n",
      "Paquete #4\n",
      "Ether / IP / TCP 192.168.1.26:57167 > 20.189.173.25:https PA / Raw\n",
      "Paquete #5\n",
      "Ether / IPv6 / UDP / DNS Qry b'mobile.events.data.trafficmanager.net.'\n"
     ]
    }
   ],
   "source": [
    "print(\"Contenido de los primeros 5 paquetes:\")\n",
    "for i in range(5):\n",
    "    print(f\"Paquete #{i+1}\")\n",
    "    print(packets[i].summary())"
   ]
  },
  {
   "cell_type": "markdown",
   "metadata": {},
   "source": [
    "### Analisis estadistico"
   ]
  },
  {
   "cell_type": "code",
   "execution_count": 7,
   "metadata": {},
   "outputs": [],
   "source": [
    "pcap_file = \"analisis_paquetes.pcap\"\n",
    "packets = rdpcap(pcap_file)"
   ]
  },
  {
   "cell_type": "code",
   "execution_count": 8,
   "metadata": {},
   "outputs": [],
   "source": [
    "data = []\n",
    "\n",
    "for pkt in packets:\n",
    "    if IP in pkt:\n",
    "        src_ip = pkt[IP].src\n",
    "        dst_ip = pkt[IP].dst\n",
    "        src_port = pkt.sport if hasattr(pkt, \"sport\") else None\n",
    "        dst_port = pkt.dport if hasattr(pkt, \"dport\") else None\n",
    "        payload_len = len(pkt[IP].payload)\n",
    "        time = pkt.time\n",
    "        data.append({\n",
    "            \"src\": src_ip,\n",
    "            \"dst\": dst_ip,\n",
    "            \"src_port\": src_port,\n",
    "            \"dst_port\": dst_port,\n",
    "            \"payload_len\": payload_len,\n",
    "            \"time\": time\n",
    "        })\n",
    "\n",
    "df = pd.DataFrame(data)"
   ]
  },
  {
   "cell_type": "code",
   "execution_count": 9,
   "metadata": {},
   "outputs": [
    {
     "data": {
      "text/html": [
       "<div>\n",
       "<style scoped>\n",
       "    .dataframe tbody tr th:only-of-type {\n",
       "        vertical-align: middle;\n",
       "    }\n",
       "\n",
       "    .dataframe tbody tr th {\n",
       "        vertical-align: top;\n",
       "    }\n",
       "\n",
       "    .dataframe thead th {\n",
       "        text-align: right;\n",
       "    }\n",
       "</style>\n",
       "<table border=\"1\" class=\"dataframe\">\n",
       "  <thead>\n",
       "    <tr style=\"text-align: right;\">\n",
       "      <th></th>\n",
       "      <th>src</th>\n",
       "      <th>dst</th>\n",
       "      <th>src_port</th>\n",
       "      <th>dst_port</th>\n",
       "      <th>payload_len</th>\n",
       "      <th>time</th>\n",
       "    </tr>\n",
       "  </thead>\n",
       "  <tbody>\n",
       "    <tr>\n",
       "      <th>0</th>\n",
       "      <td>10.1.10.53</td>\n",
       "      <td>84.54.22.33</td>\n",
       "      <td>53</td>\n",
       "      <td>53</td>\n",
       "      <td>941</td>\n",
       "      <td>1532199330.917674</td>\n",
       "    </tr>\n",
       "    <tr>\n",
       "      <th>1</th>\n",
       "      <td>84.54.22.33</td>\n",
       "      <td>10.1.10.53</td>\n",
       "      <td>53</td>\n",
       "      <td>53</td>\n",
       "      <td>64</td>\n",
       "      <td>1532199330.950107</td>\n",
       "    </tr>\n",
       "    <tr>\n",
       "      <th>2</th>\n",
       "      <td>10.1.10.53</td>\n",
       "      <td>84.54.22.33</td>\n",
       "      <td>53</td>\n",
       "      <td>53</td>\n",
       "      <td>955</td>\n",
       "      <td>1532199331.937777</td>\n",
       "    </tr>\n",
       "    <tr>\n",
       "      <th>3</th>\n",
       "      <td>84.54.22.33</td>\n",
       "      <td>10.1.10.53</td>\n",
       "      <td>53</td>\n",
       "      <td>53</td>\n",
       "      <td>64</td>\n",
       "      <td>1532199331.956635</td>\n",
       "    </tr>\n",
       "    <tr>\n",
       "      <th>4</th>\n",
       "      <td>10.1.10.53</td>\n",
       "      <td>84.54.22.33</td>\n",
       "      <td>53</td>\n",
       "      <td>53</td>\n",
       "      <td>992</td>\n",
       "      <td>1532199332.960504</td>\n",
       "    </tr>\n",
       "  </tbody>\n",
       "</table>\n",
       "</div>"
      ],
      "text/plain": [
       "           src          dst  src_port  dst_port  payload_len  \\\n",
       "0   10.1.10.53  84.54.22.33        53        53          941   \n",
       "1  84.54.22.33   10.1.10.53        53        53           64   \n",
       "2   10.1.10.53  84.54.22.33        53        53          955   \n",
       "3  84.54.22.33   10.1.10.53        53        53           64   \n",
       "4   10.1.10.53  84.54.22.33        53        53          992   \n",
       "\n",
       "                time  \n",
       "0  1532199330.917674  \n",
       "1  1532199330.950107  \n",
       "2  1532199331.937777  \n",
       "3  1532199331.956635  \n",
       "4  1532199332.960504  "
      ]
     },
     "execution_count": 9,
     "metadata": {},
     "output_type": "execute_result"
    }
   ],
   "source": [
    "df.head()"
   ]
  },
  {
   "cell_type": "code",
   "execution_count": 10,
   "metadata": {},
   "outputs": [
    {
     "data": {
      "text/html": [
       "<div>\n",
       "<style scoped>\n",
       "    .dataframe tbody tr th:only-of-type {\n",
       "        vertical-align: middle;\n",
       "    }\n",
       "\n",
       "    .dataframe tbody tr th {\n",
       "        vertical-align: top;\n",
       "    }\n",
       "\n",
       "    .dataframe thead th {\n",
       "        text-align: right;\n",
       "    }\n",
       "</style>\n",
       "<table border=\"1\" class=\"dataframe\">\n",
       "  <thead>\n",
       "    <tr style=\"text-align: right;\">\n",
       "      <th></th>\n",
       "      <th>src</th>\n",
       "      <th>dst</th>\n",
       "      <th>src_port</th>\n",
       "      <th>dst_port</th>\n",
       "    </tr>\n",
       "  </thead>\n",
       "  <tbody>\n",
       "    <tr>\n",
       "      <th>0</th>\n",
       "      <td>10.1.10.53</td>\n",
       "      <td>84.54.22.33</td>\n",
       "      <td>53</td>\n",
       "      <td>53</td>\n",
       "    </tr>\n",
       "    <tr>\n",
       "      <th>1</th>\n",
       "      <td>84.54.22.33</td>\n",
       "      <td>10.1.10.53</td>\n",
       "      <td>53</td>\n",
       "      <td>53</td>\n",
       "    </tr>\n",
       "    <tr>\n",
       "      <th>2</th>\n",
       "      <td>10.1.10.53</td>\n",
       "      <td>84.54.22.33</td>\n",
       "      <td>53</td>\n",
       "      <td>53</td>\n",
       "    </tr>\n",
       "    <tr>\n",
       "      <th>3</th>\n",
       "      <td>84.54.22.33</td>\n",
       "      <td>10.1.10.53</td>\n",
       "      <td>53</td>\n",
       "      <td>53</td>\n",
       "    </tr>\n",
       "    <tr>\n",
       "      <th>4</th>\n",
       "      <td>10.1.10.53</td>\n",
       "      <td>84.54.22.33</td>\n",
       "      <td>53</td>\n",
       "      <td>53</td>\n",
       "    </tr>\n",
       "  </tbody>\n",
       "</table>\n",
       "</div>"
      ],
      "text/plain": [
       "           src          dst  src_port  dst_port\n",
       "0   10.1.10.53  84.54.22.33        53        53\n",
       "1  84.54.22.33   10.1.10.53        53        53\n",
       "2   10.1.10.53  84.54.22.33        53        53\n",
       "3  84.54.22.33   10.1.10.53        53        53\n",
       "4   10.1.10.53  84.54.22.33        53        53"
      ]
     },
     "execution_count": 10,
     "metadata": {},
     "output_type": "execute_result"
    }
   ],
   "source": [
    "df[[\"src\", \"dst\", \"src_port\", \"dst_port\"]].head()"
   ]
  },
  {
   "cell_type": "code",
   "execution_count": null,
   "metadata": {},
   "outputs": [
    {
     "name": "stdout",
     "output_type": "stream",
     "text": [
      "IPs origen únicas:\n",
      "['10.1.10.53' '84.54.22.33' '75.75.75.75']\n",
      "IPs destino únicas:\n",
      "['84.54.22.33' '10.1.10.53' '75.75.75.75']\n",
      "IP origen más frecuente: 10.1.10.53\n",
      "IP destino más común: 84.54.22.33\n",
      "Puerto destino más común: 53\n"
     ]
    }
   ],
   "source": [
    "\n",
    "print(\"IPs origen únicas:\")\n",
    "print(df[\"src\"].unique())\n",
    "\n",
    "\n",
    "print(\"IPs destino únicas:\")\n",
    "print(df[\"dst\"].unique())\n",
    "\n",
    "\n",
    "ip_origen_frecuente = df[\"src\"].value_counts().idxmax()\n",
    "print(\"IP origen más frecuente:\", ip_origen_frecuente)\n",
    "\n",
    "\n",
    "top_dst = df[df[\"src\"] == ip_origen_frecuente][\"dst\"].value_counts().idxmax()\n",
    "print(\"IP destino más común:\", top_dst)\n",
    "\n",
    "\n",
    "top_dst_port = df[df[\"src\"] == ip_origen_frecuente][\"dst_port\"].value_counts().idxmax()\n",
    "print(\"Puerto destino más común:\", top_dst_port)"
   ]
  },
  {
   "cell_type": "code",
   "execution_count": 12,
   "metadata": {},
   "outputs": [
    {
     "name": "stdout",
     "output_type": "stream",
     "text": [
      "Puertos de origen usados:\n",
      "src_port\n",
      "53       29\n",
      "15812     1\n",
      "23903     1\n",
      "Name: count, dtype: int64\n"
     ]
    }
   ],
   "source": [
    "print(\"Puertos de origen usados:\")\n",
    "print(df[df[\"src\"] == ip_origen_frecuente][\"src_port\"].value_counts())"
   ]
  },
  {
   "cell_type": "code",
   "execution_count": 13,
   "metadata": {},
   "outputs": [],
   "source": [
    "import matplotlib.pyplot as plt"
   ]
  },
  {
   "cell_type": "markdown",
   "metadata": {},
   "source": [
    "Gráfica horizontal de IPs origen vs suma de payloads enviados"
   ]
  },
  {
   "cell_type": "code",
   "execution_count": 14,
   "metadata": {},
   "outputs": [
    {
     "data": {
      "image/png": "[encoded data removed]",
      "text/plain": [
       "<Figure size 1000x600 with 1 Axes>"
      ]
     },
     "metadata": {},
     "output_type": "display_data"
    }
   ],
   "source": [
    "payloads_por_ip_origen = df.groupby(\"src\")[\"payload_len\"].sum().sort_values()\n",
    "\n",
    "plt.figure(figsize=(10, 6))\n",
    "payloads_por_ip_origen.plot(kind=\"barh\")\n",
    "plt.xlabel(\"Bytes enviados\")\n",
    "plt.ylabel(\"IPs origen\")\n",
    "plt.title(\"Payload total enviado por IP origen\")\n",
    "plt.tight_layout()\n",
    "plt.show()\n"
   ]
  },
  {
   "cell_type": "markdown",
   "metadata": {},
   "source": [
    "Gráfica horizontal de IPs destino vs suma de payloads recibidos"
   ]
  },
  {
   "cell_type": "code",
   "execution_count": 15,
   "metadata": {},
   "outputs": [
    {
     "data": {
      "image/png": "[encoded data removed]",
      "text/plain": [
       "<Figure size 1000x600 with 1 Axes>"
      ]
     },
     "metadata": {},
     "output_type": "display_data"
    }
   ],
   "source": [
    "payloads_por_ip_destino = df.groupby(\"dst\")[\"payload_len\"].sum().sort_values()\n",
    "\n",
    "plt.figure(figsize=(10, 6))\n",
    "payloads_por_ip_destino.plot(kind=\"barh\")\n",
    "plt.xlabel(\"Bytes recibidos\")\n",
    "plt.ylabel(\"IPs destino\")\n",
    "plt.title(\"Payload total recibido por IP destino\")\n",
    "plt.tight_layout()\n",
    "plt.show()\n"
   ]
  },
  {
   "cell_type": "markdown",
   "metadata": {},
   "source": [
    "Gráfica horizontal de puertos origen vs suma de payloads enviados"
   ]
  },
  {
   "cell_type": "code",
   "execution_count": 16,
   "metadata": {},
   "outputs": [
    {
     "data": {
      "image/png": "[encoded data removed]",
      "text/plain": [
       "<Figure size 1000x600 with 1 Axes>"
      ]
     },
     "metadata": {},
     "output_type": "display_data"
    }
   ],
   "source": [
    "payloads_por_puerto_origen = df.groupby(\"src_port\")[\"payload_len\"].sum().sort_values()\n",
    "\n",
    "plt.figure(figsize=(10, 6))\n",
    "payloads_por_puerto_origen.plot(kind=\"barh\")\n",
    "plt.xlabel(\"Bytes enviados\")\n",
    "plt.ylabel(\"Puertos origen\")\n",
    "plt.title(\"Payload total enviado por puerto origen\")\n",
    "plt.tight_layout()\n",
    "plt.show()\n"
   ]
  },
  {
   "cell_type": "markdown",
   "metadata": {},
   "source": [
    "Gráfica horizontal de puertos destino vs suma de payloads recibidos"
   ]
  },
  {
   "cell_type": "code",
   "execution_count": 17,
   "metadata": {},
   "outputs": [
    {
     "data": {
      "image/png": "[encoded data removed]",
      "text/plain": [
       "<Figure size 1000x600 with 1 Axes>"
      ]
     },
     "metadata": {},
     "output_type": "display_data"
    }
   ],
   "source": [
    "payloads_por_puerto_destino = df.groupby(\"dst_port\")[\"payload_len\"].sum().sort_values()\n",
    "\n",
    "plt.figure(figsize=(10, 6))\n",
    "payloads_por_puerto_destino.plot(kind=\"barh\")\n",
    "plt.xlabel(\"Bytes recibidos\")\n",
    "plt.ylabel(\"Puertos destino\")\n",
    "plt.title(\"Payload total recibido por puerto destino\")\n",
    "plt.tight_layout()\n",
    "plt.show()\n"
   ]
  },
  {
   "cell_type": "markdown",
   "metadata": {},
   "source": [
    "Gráfica vertical (tiempo vs payload) para IP origen más frecuente"
   ]
  },
  {
   "cell_type": "code",
   "execution_count": null,
   "metadata": {},
   "outputs": [
    {
     "data": {
      "image/png": "[encoded data removed]",
      "text/plain": [
       "<Figure size 1200x600 with 1 Axes>"
      ]
     },
     "metadata": {},
     "output_type": "display_data"
    }
   ],
   "source": [
    "\n",
    "df_frecuente = df[df[\"src\"] == ip_origen_frecuente]\n",
    "\n",
    "\n",
    "df_frecuente_sorted = df_frecuente.sort_values(\"time\")\n",
    "\n",
    "plt.figure(figsize=(12, 6))\n",
    "plt.bar(df_frecuente_sorted[\"time\"], df_frecuente_sorted[\"payload_len\"])\n",
    "plt.xlabel(\"Tiempo\")\n",
    "plt.ylabel(\"Bytes enviados\")\n",
    "plt.title(f\"Payload en el tiempo para IP origen {ip_origen_frecuente}\")\n",
    "plt.tight_layout()\n",
    "plt.show()\n"
   ]
  },
  {
   "cell_type": "code",
   "execution_count": 19,
   "metadata": {},
   "outputs": [
    {
     "data": {
      "text/html": [
       "<div>\n",
       "<style scoped>\n",
       "    .dataframe tbody tr th:only-of-type {\n",
       "        vertical-align: middle;\n",
       "    }\n",
       "\n",
       "    .dataframe tbody tr th {\n",
       "        vertical-align: top;\n",
       "    }\n",
       "\n",
       "    .dataframe thead th {\n",
       "        text-align: right;\n",
       "    }\n",
       "</style>\n",
       "<table border=\"1\" class=\"dataframe\">\n",
       "  <thead>\n",
       "    <tr style=\"text-align: right;\">\n",
       "      <th></th>\n",
       "      <th>src</th>\n",
       "      <th>dst</th>\n",
       "      <th>src_port</th>\n",
       "      <th>dst_port</th>\n",
       "      <th>payload_len</th>\n",
       "      <th>time</th>\n",
       "    </tr>\n",
       "  </thead>\n",
       "  <tbody>\n",
       "    <tr>\n",
       "      <th>0</th>\n",
       "      <td>10.1.10.53</td>\n",
       "      <td>84.54.22.33</td>\n",
       "      <td>53</td>\n",
       "      <td>53</td>\n",
       "      <td>941</td>\n",
       "      <td>1532199330.917674</td>\n",
       "    </tr>\n",
       "    <tr>\n",
       "      <th>2</th>\n",
       "      <td>10.1.10.53</td>\n",
       "      <td>84.54.22.33</td>\n",
       "      <td>53</td>\n",
       "      <td>53</td>\n",
       "      <td>955</td>\n",
       "      <td>1532199331.937777</td>\n",
       "    </tr>\n",
       "    <tr>\n",
       "      <th>4</th>\n",
       "      <td>10.1.10.53</td>\n",
       "      <td>84.54.22.33</td>\n",
       "      <td>53</td>\n",
       "      <td>53</td>\n",
       "      <td>992</td>\n",
       "      <td>1532199332.960504</td>\n",
       "    </tr>\n",
       "    <tr>\n",
       "      <th>6</th>\n",
       "      <td>10.1.10.53</td>\n",
       "      <td>84.54.22.33</td>\n",
       "      <td>53</td>\n",
       "      <td>53</td>\n",
       "      <td>978</td>\n",
       "      <td>1532199333.982248</td>\n",
       "    </tr>\n",
       "    <tr>\n",
       "      <th>8</th>\n",
       "      <td>10.1.10.53</td>\n",
       "      <td>84.54.22.33</td>\n",
       "      <td>53</td>\n",
       "      <td>53</td>\n",
       "      <td>983</td>\n",
       "      <td>1532199335.003376</td>\n",
       "    </tr>\n",
       "  </tbody>\n",
       "</table>\n",
       "</div>"
      ],
      "text/plain": [
       "          src          dst  src_port  dst_port  payload_len               time\n",
       "0  10.1.10.53  84.54.22.33        53        53          941  1532199330.917674\n",
       "2  10.1.10.53  84.54.22.33        53        53          955  1532199331.937777\n",
       "4  10.1.10.53  84.54.22.33        53        53          992  1532199332.960504\n",
       "6  10.1.10.53  84.54.22.33        53        53          978  1532199333.982248\n",
       "8  10.1.10.53  84.54.22.33        53        53          983  1532199335.003376"
      ]
     },
     "execution_count": 19,
     "metadata": {},
     "output_type": "execute_result"
    }
   ],
   "source": [
    "df_ip_frecuente = df[df[\"src\"] == ip_origen_frecuente]\n",
    "df_ip_frecuente.head()\n"
   ]
  },
  {
   "cell_type": "code",
   "execution_count": 20,
   "metadata": {},
   "outputs": [
    {
     "data": {
      "text/html": [
       "<div>\n",
       "<style scoped>\n",
       "    .dataframe tbody tr th:only-of-type {\n",
       "        vertical-align: middle;\n",
       "    }\n",
       "\n",
       "    .dataframe tbody tr th {\n",
       "        vertical-align: top;\n",
       "    }\n",
       "\n",
       "    .dataframe thead th {\n",
       "        text-align: right;\n",
       "    }\n",
       "</style>\n",
       "<table border=\"1\" class=\"dataframe\">\n",
       "  <thead>\n",
       "    <tr style=\"text-align: right;\">\n",
       "      <th></th>\n",
       "      <th>dst</th>\n",
       "      <th>total_payload</th>\n",
       "    </tr>\n",
       "  </thead>\n",
       "  <tbody>\n",
       "    <tr>\n",
       "      <th>0</th>\n",
       "      <td>84.54.22.33</td>\n",
       "      <td>28211</td>\n",
       "    </tr>\n",
       "    <tr>\n",
       "      <th>1</th>\n",
       "      <td>75.75.75.75</td>\n",
       "      <td>90</td>\n",
       "    </tr>\n",
       "  </tbody>\n",
       "</table>\n",
       "</div>"
      ],
      "text/plain": [
       "           dst  total_payload\n",
       "0  84.54.22.33          28211\n",
       "1  75.75.75.75             90"
      ]
     },
     "execution_count": 20,
     "metadata": {},
     "output_type": "execute_result"
    }
   ],
   "source": [
    "agrupado = df_ip_frecuente.groupby(\"dst\")[\"payload_len\"].sum().sort_values(ascending=False)\n",
    "agrupado = agrupado.reset_index()\n",
    "agrupado.columns = [\"dst\", \"total_payload\"]\n",
    "agrupado.head()\n"
   ]
  },
  {
   "cell_type": "code",
   "execution_count": 21,
   "metadata": {},
   "outputs": [
    {
     "name": "stdout",
     "output_type": "stream",
     "text": [
      "IP destino sospechosa: 84.54.22.33\n"
     ]
    }
   ],
   "source": [
    "ip_destino_sospechosa = agrupado.iloc[0][\"dst\"]\n",
    "print(\"IP destino sospechosa:\", ip_destino_sospechosa)\n"
   ]
  },
  {
   "cell_type": "code",
   "execution_count": 22,
   "metadata": {},
   "outputs": [
    {
     "data": {
      "text/html": [
       "<div>\n",
       "<style scoped>\n",
       "    .dataframe tbody tr th:only-of-type {\n",
       "        vertical-align: middle;\n",
       "    }\n",
       "\n",
       "    .dataframe tbody tr th {\n",
       "        vertical-align: top;\n",
       "    }\n",
       "\n",
       "    .dataframe thead th {\n",
       "        text-align: right;\n",
       "    }\n",
       "</style>\n",
       "<table border=\"1\" class=\"dataframe\">\n",
       "  <thead>\n",
       "    <tr style=\"text-align: right;\">\n",
       "      <th></th>\n",
       "      <th>src</th>\n",
       "      <th>dst</th>\n",
       "      <th>src_port</th>\n",
       "      <th>dst_port</th>\n",
       "      <th>payload_len</th>\n",
       "      <th>time</th>\n",
       "    </tr>\n",
       "  </thead>\n",
       "  <tbody>\n",
       "    <tr>\n",
       "      <th>0</th>\n",
       "      <td>10.1.10.53</td>\n",
       "      <td>84.54.22.33</td>\n",
       "      <td>53</td>\n",
       "      <td>53</td>\n",
       "      <td>941</td>\n",
       "      <td>1532199330.917674</td>\n",
       "    </tr>\n",
       "    <tr>\n",
       "      <th>2</th>\n",
       "      <td>10.1.10.53</td>\n",
       "      <td>84.54.22.33</td>\n",
       "      <td>53</td>\n",
       "      <td>53</td>\n",
       "      <td>955</td>\n",
       "      <td>1532199331.937777</td>\n",
       "    </tr>\n",
       "    <tr>\n",
       "      <th>4</th>\n",
       "      <td>10.1.10.53</td>\n",
       "      <td>84.54.22.33</td>\n",
       "      <td>53</td>\n",
       "      <td>53</td>\n",
       "      <td>992</td>\n",
       "      <td>1532199332.960504</td>\n",
       "    </tr>\n",
       "    <tr>\n",
       "      <th>6</th>\n",
       "      <td>10.1.10.53</td>\n",
       "      <td>84.54.22.33</td>\n",
       "      <td>53</td>\n",
       "      <td>53</td>\n",
       "      <td>978</td>\n",
       "      <td>1532199333.982248</td>\n",
       "    </tr>\n",
       "    <tr>\n",
       "      <th>8</th>\n",
       "      <td>10.1.10.53</td>\n",
       "      <td>84.54.22.33</td>\n",
       "      <td>53</td>\n",
       "      <td>53</td>\n",
       "      <td>983</td>\n",
       "      <td>1532199335.003376</td>\n",
       "    </tr>\n",
       "  </tbody>\n",
       "</table>\n",
       "</div>"
      ],
      "text/plain": [
       "          src          dst  src_port  dst_port  payload_len               time\n",
       "0  10.1.10.53  84.54.22.33        53        53          941  1532199330.917674\n",
       "2  10.1.10.53  84.54.22.33        53        53          955  1532199331.937777\n",
       "4  10.1.10.53  84.54.22.33        53        53          992  1532199332.960504\n",
       "6  10.1.10.53  84.54.22.33        53        53          978  1532199333.982248\n",
       "8  10.1.10.53  84.54.22.33        53        53          983  1532199335.003376"
      ]
     },
     "execution_count": 22,
     "metadata": {},
     "output_type": "execute_result"
    }
   ],
   "source": [
    "df_conversacion = df[\n",
    "    (df[\"src\"] == ip_origen_frecuente) &\n",
    "    (df[\"dst\"] == ip_destino_sospechosa)\n",
    "]\n",
    "df_conversacion.head()\n"
   ]
  },
  {
   "cell_type": "code",
   "execution_count": 23,
   "metadata": {},
   "outputs": [
    {
     "name": "stdout",
     "output_type": "stream",
     "text": [
      "Se encontraron 29 payloads.\n"
     ]
    }
   ],
   "source": [
    "payloads = []\n",
    "\n",
    "for pkt in packets:\n",
    "    if IP in pkt and pkt[IP].src == ip_origen_frecuente and pkt[IP].dst == ip_destino_sospechosa:\n",
    "        if Raw in pkt:\n",
    "            payloads.append(pkt[Raw].load)\n",
    "\n",
    "print(f\"Se encontraron {len(payloads)} payloads.\")\n"
   ]
  },
  {
   "cell_type": "code",
   "execution_count": null,
   "metadata": {},
   "outputs": [
    {
     "name": "stdout",
     "output_type": "stream",
     "text": [
      "Payload #1:\n",
      "b'\\xef\\xbf\\xbdPNG\\r\\n\\x1a\\n\\x00\\x00\\x00\\rIHDR\\x00\\x00\\x01b\\x00\\x00\\x00\\xef\\xbf\\xbd\\x08\\x06\\x00\\x00\\x00(\\xef\\xbf\\xbdTR\\x00\\x00:\\xef\\xbf\\xbdIDATx\\xef\\xbf\\xbd\\xef\\xbf\\xbd\\t|T\\xef\\xbf\\xbd\\xef\\xbf\\xbd\\xef\\xbf\\xbd\\xef\\xbf\\xbd\\xef\\xbf\\xbd;K\\x12\\x08;\\x08\\xef\\xbf\\xbd\\nE\\xef\\xbf\\xbd\\xef\\xbf\\xbd$\\x19\\xef\\xbf\\xbd\\xef\\xbf\\xbdZ'\n",
      "----------------------------------------\n",
      "Payload #2:\n",
      "b':\\xef\\xbf\\xbdle:\\xc7\\xa9\\xef\\xbf\\xbd\\xef\\xbf\\xbd\\xef\\xbf\\xbd\\x0c\\xef\\xbf\\xbd\\xef\\xbf\\xbd\\xef\\xbf\\xbd:|\\x11\\xef\\xbf\\xbdX\\xef\\xbf\\xbd\\xef\\xbf\\xbdq.e\\xef\\xbf\\xbd\\xef\\xbf\\xbd\\xef\\xbf\\xbda\\x120\\xef\\xbf\\xbdJ}4\\n9$vz\\xef\\xbf\\xbdR\\xef\\xbf\\xbduO/\\xef\\xbf\\xbd\\xef\\xbf\\xbd;\\xc7\\xab]\\xef\\xbf\\xbd\\xef\\xbf\\xbdM\"\\xef\\xbf\\xbdrT'\n",
      "----------------------------------------\n",
      "Payload #3:\n",
      "b\"\\xef\\xbf\\xbd\\xef\\xbf\\xbd^n\\xef\\xbf\\xbd''\\xef\\xbf\\xbd\\xef\\xbf\\xbd\\xef\\xbf\\xbd$\\xef\\xbf\\xbd\\xef\\xbf\\xbd\\xef\\xbf\\xbd\\xef\\xbf\\xbd\\xef\\xbf\\xbdR\\xef\\xbf\\xbd\\xef\\xbf\\xbd\\xef\\xbf\\xbd\\x17\\xef\\xbf\\xbd>Epou\\xef\\xbf\\xbd\\xef\\xbf\\xbd$\\xef\\xbf\\xbd\\xef\\xbf\\xbdM\\xef\\xbf\\xbd\\xef\\xbf\\xbd\\x1c\\xef\\xbf\\xbd\\xef\\xbf\\xbd\\x0e\\xef\\xbf\\xbdtB\\r\\xef\\xbf\\xbd\\xd4\\xbag\\xef\\xbf\\xbd\"\n",
      "----------------------------------------\n",
      "Payload #4:\n",
      "b'\\xe4\\x8e\\x91Bj_\\xef\\xbf\\xbda\\r\\xef\\xbf\\xbd\\xef\\xbf\\xbd\\xef\\xbf\\xbd\\x04\\xef\\xbf\\xbd\\xef\\xbf\\xbd\\x10DJ\\xef\\xbf\\xbd\\xef\\xbf\\xbd\\x14\\xef\\xbf\\xbd\\x12\\xef\\xbf\\xbd\\xef\\xbf\\xbdB\\xef\\xbf\\xbd\\x05\\x1dB\\r&\\xef\\xbf\\xbd@\\xef\\xbf\\xbd\\xd6\\x9e\\t\\xef\\xbf\\xbdD\\xef\\xbf\\xbdo\\x01\\xef\\xbf\\xbdgc\\xef\\xbf\\xbdr\\xef\\xbf\\xbd\\xef\\xbf\\xbd1\\xef\\xbf\\xbd\\x12 \\xef\\xbf\\xbd\\n'\n",
      "----------------------------------------\n",
      "Payload #5:\n",
      "b'\\xef\\xbf\\xbd\\xef\\xbf\\xbd\\xef\\xbf\\xbd\\xcb\\xb4\\xef\\xbf\\xbd\\x16\\xef\\xbf\\xbd\\xef\\xbf\\xbdrj\\xef\\xbf\\xbdGBWO\\xef\\xbf\\xbd\\xef\\xbf\\xbd\\x18\\xdd\\xa2i\\xef\\xbf\\xbd\\xef\\xbf\\xbd0\\xef\\xbf\\xbd\\x18\\x01\\xef\\xbf\\xbd\\xef\\xbf\\xbd\\xef\\xbf\\xbd\\xef\\xbf\\xbd\\xef\\xbf\\xbd\\x13e\"3\\x1cY\\r\\rP\\xef\\xbf\\xbd\\xef\\xbf\\xbd\\xef\\xbf\\xbd^nQ\\x0c\\x0b1\\xef\\xbf\\xbd\\x16\\x13/\\\\8$'\n",
      "----------------------------------------\n"
     ]
    }
   ],
   "source": [
    "for i, p in enumerate(payloads[:5]):\n",
    "    print(f\"Payload #{i+1}:\")\n",
    "    print(p[:100]) \n",
    "    print(\"-\" * 40)\n"
   ]
  },
  {
   "cell_type": "code",
   "execution_count": 25,
   "metadata": {},
   "outputs": [
    {
     "name": "stdout",
     "output_type": "stream",
     "text": [
      "Puerto destino sospechoso: 53\n"
     ]
    }
   ],
   "source": [
    "print(f\"Puerto destino sospechoso: {top_dst_port}\")"
   ]
  },
  {
   "cell_type": "markdown",
   "metadata": {},
   "source": [
    "Durante el análisis de tráfico, se logro detectar que la IP origen más frecuente envió datos al puerto 53 (DNS), pero los payloads contienen información binaria, incluyendo una imagen en formato PNG, lo cual no es típico de una comunicación DNS normal. Este comportamiento sugiere un posible uso de DNS tunneling para transmitir datos encubiertos, lo cual puede indicar una actividad sospechosa o maliciosa en la red."
   ]
  }
 ],
 "metadata": {
  "kernelspec": {
   "display_name": "Python 3",
   "language": "python",
   "name": "python3"
  },
  "language_info": {
   "codemirror_mode": {
    "name": "ipython",
    "version": 3
   },
   "file_extension": ".py",
   "mimetype": "text/x-python",
   "name": "python",
   "nbconvert_exporter": "python",
   "pygments_lexer": "ipython3",
   "version": "3.9.6"
  }
 },
 "nbformat": 4,
 "nbformat_minor": 2
}
